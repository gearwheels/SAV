{
 "cells": [
  {
   "cell_type": "markdown",
   "metadata": {},
   "source": [
    "Результат скидывать на почту tt48@mail.ru в виде файла *.ipynb<br>\n",
    "В теме письма указывать, что это второй курс и что это \"системы аналитических вычислений\" или \"пакеты\". + номер ДЗ туда же.<br>\n",
    "В содержании письма указывать ФИО и группу."
   ]
  },
  {
   "cell_type": "markdown",
   "metadata": {},
   "source": [
    "<h1>Задание 0</h1>\n",
    "<pre>\n",
    "Установить SageMath 9.2 (https://www.sagemath.org/)\n",
    "В случае проблем - писать на почту.\n",
    "\t\n",
    "Как резервный вариант - on-line редакторы\n",
    "\thttps://cocalc.com/doc/jupyter-notebook.html\n",
    "\t\tесть некоторые проблемы по LaTeX возможностям.\n",
    "\thttps://sagecell.sagemath.org/\n",
    "\t\tработает, но предоставляется только одна ячейка\n",
    "\t\n",
    "\t- медленнее работают\n",
    "\t\t, есть ограничения по количеству времени на выполнение запроса\n",
    "\t\t, некоторые ошибки по синтаксису опускаются (LaTeX касается)\n",
    "\t\t, больше места экрана уходит на менюшки и прочего.\n",
    "\t\t\n",
    "\t+ ничего устанавливать не нужно. Можно даже не регистрироваться.\n",
    "</pre>"
   ]
  },
  {
   "cell_type": "markdown",
   "metadata": {},
   "source": [
    "<h1>Задание 1 - часть 1 - Квадратик</h1>\n",
    "Доделать начинания, что были на занятии:<br>\n",
    "при помощи функции отображения графиков отобразить квадратик.<br>\n",
    "Задав квадратик матрицей координат, повернуть и сдвинуть его относительно исходного положения.<br>\n",
    "Вывести исходный квадратик и результат.\n"
   ]
  },
  {
   "cell_type": "code",
   "execution_count": 14,
   "metadata": {},
   "outputs": [],
   "source": [
    "import math"
   ]
  },
  {
   "cell_type": "code",
   "execution_count": 15,
   "metadata": {},
   "outputs": [],
   "source": [
    "a = 10\n",
    "rectangle_src = matrix([[0, 0], [0, a], [a, a], [a, 0], [0, 0]])\n",
    "alpha = math.radians(45)\n",
    "mat_rot = matrix([\n",
    "    [cos(alpha), sin(alpha)]\n",
    "    , [ -sin(alpha), cos(alpha)]\n",
    "])\n",
    "rectangle_rotated =  rectangle_src * mat_rot\n",
    "\n",
    "\n"
   ]
  },
  {
   "cell_type": "code",
   "execution_count": 16,
   "metadata": {},
   "outputs": [],
   "source": [
    "def movement(tmpmatrix, x, y):\n",
    "    return tmpmatrix + matrix([[x,y] for i in range(5)])\n"
   ]
  },
  {
   "cell_type": "code",
   "execution_count": 17,
   "metadata": {
    "scrolled": true
   },
   "outputs": [
    {
     "data": {
      "image/png": "[encoded data removed]",
      "text/plain": [
       "Graphics object consisting of 2 graphics primitives"
      ]
     },
     "metadata": {},
     "output_type": "display_data"
    }
   ],
   "source": [
    "rectangle_rotated = movement(rectangle_rotated, 20, 9)\n",
    "\n",
    "show(\n",
    "    line(rectangle_src, rgbcolor=(0,1,9))\n",
    "    + line(rectangle_rotated, rgbcolor=(5,0,8))\n",
    "    , xmin=0, xmax=50, ymin=0, ymax=30, aspect_ratio=1)"
   ]
  },
  {
   "cell_type": "markdown",
   "metadata": {},
   "source": [
    "<h1>Задание 1 - часть 2 - Исследование функции</h1>\n",
    "Для заданной формулой функции найти:\n",
    "<ol>\n",
    "    <li>Область определения функции.</li>\n",
    "    <li>Является ли функция четной или нечетной, является ли периодической.</li>\n",
    "    <li>Точки пересечения графика с осями координат.</li>\n",
    "    <li>Промежутки знакопостоянства.</li>\n",
    "    <li>Промежутки возрастания и убывания.</li>\n",
    "    <li>Точки экстремума и значения в этих точках.</li>\n",
    "    <li>Непрерывность. Наличие точек разрыва и их классификация.</li>\n",
    "    <li>Асимптоты.</li>\n",
    "</ol>\n",
    "Построить график функции, асимптоты, промежутки знакопостоянства. (см. папку с материалами).<br>\n",
    "Необходимо также сделать минимальное, но оформление решения, а не просто набор ответов.\n",
    "\n",
    "<h4>Справочные материалы:</h4>\n",
    "<ol>\n",
    "    <li>Гусак, 1999г. - исследование графиков</li>\n",
    "    <li>Ефимов, Поспелов — т.2, стр. 86</li>\n",
    "    <li>Ильин, Поздняк — т.1, стр. 143 и стр. 300-327</li>\n",
    "    <li>Пискунов — стр. 144-184</li>\n",
    "</ol>"
   ]
  },
  {
   "cell_type": "markdown",
   "metadata": {},
   "source": [
    "<h1>Варианты:</h1>"
   ]
  },
  {
   "cell_type": "code",
   "execution_count": 1,
   "metadata": {},
   "outputs": [],
   "source": [
    "tasks = [ \n",
    "            x/sin(3*x**2 - 2*x + 5*ln(x))\n",
    "            , (x**2 - 4)*sin((pi*(x**2))/6) / (x**2 - 1)\n",
    "            , sqrt(abs(3*x^3 + 2*x^2 - 10*x)) / (4*x)\n",
    "            , 1/2 * ln(sqrt(x^2 + 1) / sqrt(x^2 - 1))\n",
    "            , (x^3 - x^2 - x + 1)^(1/3) / tan(x)\n",
    "            , 2*log((x - 1) / x) + 1\n",
    "            , ln(x - 1) / (x - 1)^2\n",
    "        ]"
   ]
  },
  {
   "cell_type": "markdown",
   "metadata": {},
   "source": [
    "В your_number присвоить ваш номер по списку в рейтинге.\n",
    "Рейтинги ваши лежат <a href='https://docs.google.com/spreadsheets/d/14cdxMHQw2Bd4i_4qoYWzV4olXgaNuckR6ZzWLCQQEUg/edit?usp=sharing'>здесь</a>"
   ]
  },
  {
   "cell_type": "code",
   "execution_count": 2,
   "metadata": {
    "scrolled": true
   },
   "outputs": [
    {
     "name": "stdout",
     "output_type": "stream",
     "text": [
      "Номер вашего задания: 2.\n"
     ]
    },
    {
     "data": {
      "text/html": [
       "<html><script type=\"math/tex; mode=display\">\\newcommand{\\Bold}[1]{\\mathbf{#1}}\\verb|Ваша|\\phantom{\\verb!x!}\\verb|функция:| \\frac{\\sqrt{{\\left| 3 \\, x^{3} + 2 \\, x^{2} - 10 \\, x \\right|}}}{4 \\, x}</script></html>"
      ],
      "text/latex": [
       "\\begin{math}\n",
       "\\newcommand{\\Bold}[1]{\\mathbf{#1}}\\verb|Ваша|\\phantom{\\verb!x!}\\verb|функция:| \\frac{\\sqrt{{\\left| 3 \\, x^{3} + 2 \\, x^{2} - 10 \\, x \\right|}}}{4 \\, x}\n",
       "\\end{math}"
      ],
      "text/plain": [
       "'Ваша функция: ' 1/4*sqrt(abs(3*x^3 + 2*x^2 - 10*x))/x"
      ]
     },
     "metadata": {},
     "output_type": "display_data"
    }
   ],
   "source": [
    "def get_variant_for_number(_number, _variations_quo):\n",
    "    return (_number - 1) % _variations_quo\n",
    "\n",
    "\n",
    "your_number = 24 # сюда вбить ваш номер по списку в рейтинге \n",
    "number_of_your_task = get_variant_for_number(_number=your_number, _variations_quo=len(tasks))\n",
    "print(f\"Номер вашего задания: {number_of_your_task}.\")\n",
    "show(\"Ваша функция: \", tasks[number_of_your_task])"
   ]
  },
  {
   "cell_type": "code",
   "execution_count": 20,
   "metadata": {},
   "outputs": [],
   "source": [
    "\n",
    "y(x) = sqrt(abs(3*x^3 + 2*x^2 - 10*x)) / (4*x) "
   ]
  },
  {
   "cell_type": "code",
   "execution_count": 21,
   "metadata": {},
   "outputs": [
    {
     "data": {
      "text/html": [
       "<html><script type=\"math/tex; mode=display\">\\newcommand{\\Bold}[1]{\\mathbf{#1}}\\frac{\\sqrt{{\\left| 3 \\, x^{3} + 2 \\, x^{2} - 10 \\, x \\right|}}}{4 \\, x}</script></html>"
      ],
      "text/latex": [
       "\\begin{math}\n",
       "\\newcommand{\\Bold}[1]{\\mathbf{#1}}\\frac{\\sqrt{{\\left| 3 \\, x^{3} + 2 \\, x^{2} - 10 \\, x \\right|}}}{4 \\, x}\n",
       "\\end{math}"
      ],
      "text/plain": [
       "1/4*sqrt(abs(3*x^3 + 2*x^2 - 10*x))/x"
      ]
     },
     "metadata": {},
     "output_type": "display_data"
    }
   ],
   "source": [
    "show(y(x))"
   ]
  },
  {
   "cell_type": "code",
   "execution_count": 22,
   "metadata": {
    "scrolled": false
   },
   "outputs": [
    {
     "data": {
      "image/png": "[encoded data removed]",
      "text/plain": [
       "Graphics object consisting of 1 graphics primitive"
      ]
     },
     "execution_count": 22,
     "metadata": {},
     "output_type": "execute_result"
    }
   ],
   "source": [
    "plot(y, (x, -50, 50), ymin=-65, ymax=65,)"
   ]
  },
  {
   "cell_type": "code",
   "execution_count": 23,
   "metadata": {},
   "outputs": [
    {
     "data": {
      "text/html": [
       "<html><script type=\"math/tex; mode=display\">\\newcommand{\\Bold}[1]{\\mathbf{#1}}x = 0</script></html>"
      ],
      "text/latex": [
       "\\begin{math}\n",
       "\\newcommand{\\Bold}[1]{\\mathbf{#1}}x = 0\n",
       "\\end{math}"
      ],
      "text/plain": [
       "x == 0"
      ]
     },
     "metadata": {},
     "output_type": "display_data"
    }
   ],
   "source": [
    "# 1.Область определения функции.\n",
    "var(\"x\")\n",
    "tmpy(x) = 1/y(x)\n",
    "#show(1/y(x))\n",
    "anss = solve(tmpy,x)\n",
    "show(anss[0])"
   ]
  },
  {
   "cell_type": "markdown",
   "metadata": {},
   "source": [
    "D : x $\\neq$ 0"
   ]
  },
  {
   "cell_type": "code",
   "execution_count": 24,
   "metadata": {},
   "outputs": [
    {
     "data": {
      "text/html": [
       "<html><script type=\"math/tex; mode=display\">\\newcommand{\\Bold}[1]{\\mathbf{#1}}-\\frac{\\sqrt{{\\left| 3 \\, x^{3} + 2 \\, x^{2} - 10 \\, x \\right|}} + \\sqrt{{\\left| 3 \\, x^{3} - 2 \\, x^{2} - 10 \\, x \\right|}}}{4 \\, x}</script></html>"
      ],
      "text/latex": [
       "\\begin{math}\n",
       "\\newcommand{\\Bold}[1]{\\mathbf{#1}}-\\frac{\\sqrt{{\\left| 3 \\, x^{3} + 2 \\, x^{2} - 10 \\, x \\right|}} + \\sqrt{{\\left| 3 \\, x^{3} - 2 \\, x^{2} - 10 \\, x \\right|}}}{4 \\, x}\n",
       "\\end{math}"
      ],
      "text/plain": [
       "-1/4*(sqrt(abs(3*x^3 + 2*x^2 - 10*x)) + sqrt(abs(3*x^3 - 2*x^2 - 10*x)))/x"
      ]
     },
     "metadata": {},
     "output_type": "display_data"
    }
   ],
   "source": [
    "# 2.Является ли функция четной или нечетной, является ли периодической.\n",
    "\n",
    "ans = (y(-x) - y(x)).expand().simplify_full()\n",
    "show(ans)"
   ]
  },
  {
   "cell_type": "markdown",
   "metadata": {},
   "source": [
    "Функция является нечетной"
   ]
  },
  {
   "cell_type": "code",
   "execution_count": 25,
   "metadata": {
    "scrolled": true
   },
   "outputs": [
    {
     "data": {
      "image/png": "[encoded data removed]",
      "text/plain": [
       "Graphics object consisting of 1 graphics primitive"
      ]
     },
     "metadata": {},
     "output_type": "display_data"
    }
   ],
   "source": [
    "var(\"x T\")\n",
    "eq3 = y(x) - y(x + T)\n",
    "eq3.simplify_full()\n",
    "eq3 = _\n",
    "show(eq3)\n"
   ]
  },
  {
   "cell_type": "code",
   "execution_count": 26,
   "metadata": {},
   "outputs": [],
   "source": [
    "#eq3(x=0, T=1)\n",
    "#eq3 = y(x) - y(x + T)\n",
    "#solve(eq3, T)"
   ]
  },
  {
   "cell_type": "code",
   "execution_count": 27,
   "metadata": {},
   "outputs": [
    {
     "data": {
      "image/png": "[encoded data removed]",
      "text/plain": [
       "Graphics object consisting of 1 graphics primitive"
      ]
     },
     "execution_count": 27,
     "metadata": {},
     "output_type": "execute_result"
    }
   ],
   "source": [
    "# 3.Точки пересечения графика с осями координат.\n",
    "\n",
    "plot(y, (x, -20, 20), ymin=-20, ymax=20, aspect_ratio = 1)"
   ]
  },
  {
   "cell_type": "code",
   "execution_count": 28,
   "metadata": {},
   "outputs": [
    {
     "data": {
      "text/html": [
       "<html><script type=\"math/tex; mode=display\">\\newcommand{\\Bold}[1]{\\mathbf{#1}}-2.1893</script></html>"
      ],
      "text/latex": [
       "\\begin{math}\n",
       "\\newcommand{\\Bold}[1]{\\mathbf{#1}}-2.1893\n",
       "\\end{math}"
      ],
      "text/plain": [
       "-2.1893"
      ]
     },
     "metadata": {},
     "output_type": "display_data"
    },
    {
     "data": {
      "text/html": [
       "<html><script type=\"math/tex; mode=display\">\\newcommand{\\Bold}[1]{\\mathbf{#1}}1.5226</script></html>"
      ],
      "text/latex": [
       "\\begin{math}\n",
       "\\newcommand{\\Bold}[1]{\\mathbf{#1}}1.5226\n",
       "\\end{math}"
      ],
      "text/plain": [
       "1.5226"
      ]
     },
     "metadata": {},
     "output_type": "display_data"
    },
    {
     "data": {
      "text/html": [
       "<html><script type=\"math/tex; mode=display\">\\newcommand{\\Bold}[1]{\\mathbf{#1}}0.00000</script></html>"
      ],
      "text/latex": [
       "\\begin{math}\n",
       "\\newcommand{\\Bold}[1]{\\mathbf{#1}}0.00000\n",
       "\\end{math}"
      ],
      "text/plain": [
       "0.00000"
      ]
     },
     "metadata": {},
     "output_type": "display_data"
    }
   ],
   "source": [
    "x = var('x')\n",
    "sols = solve(sqrt(abs(3*x^3 + 2*x^2 - 10*x)) / (4*x) == 0, x)\n",
    "for sol in sols:\n",
    "    show(sol.rhs().n(digits = 5))"
   ]
  },
  {
   "cell_type": "markdown",
   "metadata": {},
   "source": [
    "Точки пересечения не найдены. Точка разрыва $(0,0)$. Точки касания оси X $(−2.1893,0)$ и $(1.5226 ,0)$"
   ]
  },
  {
   "cell_type": "code",
   "execution_count": 29,
   "metadata": {},
   "outputs": [
    {
     "data": {
      "image/png": "[encoded data removed]",
      "text/plain": [
       "Graphics object consisting of 5 graphics primitives"
      ]
     },
     "metadata": {},
     "output_type": "display_data"
    }
   ],
   "source": [
    "# 4.Промежутки знакопостоянства.\n",
    "\n",
    "# отрисовка отрезка - основная линия для графика промежутков знакопостоянства\n",
    "intervals_of_constancy = plot(0, xmin=-8, xmax=8, ymin=-0.5, ymax=0.5, aspect_ratio = 1)\n",
    "\n",
    "# добавление красных маркеров - отметки точек\\маркеров\n",
    "intervals_of_constancy  += point((0, 0), color=\"red\", size=30, zorder=10)\n",
    "\n",
    "# здесь добавляем подписи точек (значения по оси X)\n",
    "intervals_of_constancy  += text(\"$0$\", (0,1), color=\"black\", fontsize=10)\n",
    "\n",
    "# Здесь добавляем подписи знаков промежутков знакопостоянства\n",
    "y_margin = 0.1  # смещение по оси Y элемента подписи, чтобы он не наслаивался на линию \n",
    "intervals_of_constancy  += text(\"+\", (3 , 0.5), color=\"black\", fontsize=14)\n",
    "intervals_of_constancy  += text(\"-\", (-3 , 0.5), color=\"black\", fontsize=25)\n",
    "\n",
    "# оси не нужны - скрываем\n",
    "intervals_of_constancy.show(axes=False)"
   ]
  },
  {
   "cell_type": "code",
   "execution_count": 30,
   "metadata": {},
   "outputs": [
    {
     "data": {
      "text/html": [
       "<html><script type=\"math/tex; mode=display\">\\newcommand{\\Bold}[1]{\\mathbf{#1}}-2.1893</script></html>"
      ],
      "text/latex": [
       "\\begin{math}\n",
       "\\newcommand{\\Bold}[1]{\\mathbf{#1}}-2.1893\n",
       "\\end{math}"
      ],
      "text/plain": [
       "-2.1893"
      ]
     },
     "metadata": {},
     "output_type": "display_data"
    },
    {
     "data": {
      "text/html": [
       "<html><script type=\"math/tex; mode=display\">\\newcommand{\\Bold}[1]{\\mathbf{#1}}1.5226</script></html>"
      ],
      "text/latex": [
       "\\begin{math}\n",
       "\\newcommand{\\Bold}[1]{\\mathbf{#1}}1.5226\n",
       "\\end{math}"
      ],
      "text/plain": [
       "1.5226"
      ]
     },
     "metadata": {},
     "output_type": "display_data"
    },
    {
     "data": {
      "text/html": [
       "<html><script type=\"math/tex; mode=display\">\\newcommand{\\Bold}[1]{\\mathbf{#1}}-1.8257i</script></html>"
      ],
      "text/latex": [
       "\\begin{math}\n",
       "\\newcommand{\\Bold}[1]{\\mathbf{#1}}-1.8257i\n",
       "\\end{math}"
      ],
      "text/plain": [
       "-1.8257*I"
      ]
     },
     "metadata": {},
     "output_type": "display_data"
    },
    {
     "data": {
      "text/html": [
       "<html><script type=\"math/tex; mode=display\">\\newcommand{\\Bold}[1]{\\mathbf{#1}}1.8257i</script></html>"
      ],
      "text/latex": [
       "\\begin{math}\n",
       "\\newcommand{\\Bold}[1]{\\mathbf{#1}}1.8257i\n",
       "\\end{math}"
      ],
      "text/plain": [
       "1.8257*I"
      ]
     },
     "metadata": {},
     "output_type": "display_data"
    },
    {
     "data": {
      "text/html": [
       "<html><script type=\"math/tex; mode=display\">\\newcommand{\\Bold}[1]{\\mathbf{#1}}0.00000</script></html>"
      ],
      "text/latex": [
       "\\begin{math}\n",
       "\\newcommand{\\Bold}[1]{\\mathbf{#1}}0.00000\n",
       "\\end{math}"
      ],
      "text/plain": [
       "0.00000"
      ]
     },
     "metadata": {},
     "output_type": "display_data"
    }
   ],
   "source": [
    "# 5.Промежутки возрастания и убывания.\n",
    "\n",
    "der = diff(y(x),x)\n",
    "sols = solve(der,x)\n",
    "for sol in sols:\n",
    "    show(sol.rhs().n(digits = 5))"
   ]
  },
  {
   "cell_type": "markdown",
   "metadata": {},
   "source": [
    "Возьмем точки в полуинтервалах (-oo, −2.1893]; [−2.1893, 0); (0, 1.5226]; [1.5226, oo)\n",
    "\n",
    "Проверим убывает или возрастает ф-ия."
   ]
  },
  {
   "cell_type": "code",
   "execution_count": 31,
   "metadata": {},
   "outputs": [
    {
     "data": {
      "text/html": [
       "<html><script type=\"math/tex; mode=display\">\\newcommand{\\Bold}[1]{\\mathbf{#1}}\\frac{31}{720} \\, \\sqrt{3}</script></html>"
      ],
      "text/latex": [
       "\\begin{math}\n",
       "\\newcommand{\\Bold}[1]{\\mathbf{#1}}\\frac{31}{720} \\, \\sqrt{3}\n",
       "\\end{math}"
      ],
      "text/plain": [
       "31/720*sqrt(3)"
      ]
     },
     "metadata": {},
     "output_type": "display_data"
    },
    {
     "data": {
      "text/html": [
       "<html><script type=\"math/tex; mode=display\">\\newcommand{\\Bold}[1]{\\mathbf{#1}}-\\frac{13}{24}</script></html>"
      ],
      "text/latex": [
       "\\begin{math}\n",
       "\\newcommand{\\Bold}[1]{\\mathbf{#1}}-\\frac{13}{24}\n",
       "\\end{math}"
      ],
      "text/plain": [
       "-13/24"
      ]
     },
     "metadata": {},
     "output_type": "display_data"
    },
    {
     "data": {
      "text/html": [
       "<html><script type=\"math/tex; mode=display\">\\newcommand{\\Bold}[1]{\\mathbf{#1}}-\\frac{13}{40} \\, \\sqrt{5}</script></html>"
      ],
      "text/latex": [
       "\\begin{math}\n",
       "\\newcommand{\\Bold}[1]{\\mathbf{#1}}-\\frac{13}{40} \\, \\sqrt{5}\n",
       "\\end{math}"
      ],
      "text/plain": [
       "-13/40*sqrt(5)"
      ]
     },
     "metadata": {},
     "output_type": "display_data"
    },
    {
     "data": {
      "text/html": [
       "<html><script type=\"math/tex; mode=display\">\\newcommand{\\Bold}[1]{\\mathbf{#1}}\\frac{1}{80} \\, \\sqrt{31}</script></html>"
      ],
      "text/latex": [
       "\\begin{math}\n",
       "\\newcommand{\\Bold}[1]{\\mathbf{#1}}\\frac{1}{80} \\, \\sqrt{31}\n",
       "\\end{math}"
      ],
      "text/plain": [
       "1/80*sqrt(31)"
      ]
     },
     "metadata": {},
     "output_type": "display_data"
    }
   ],
   "source": [
    "sol1 = der(-10)\n",
    "show(sol1)\n",
    "sol2 = der(-1)\n",
    "show(sol2)\n",
    "sol3 = der(1)\n",
    "show(sol3)\n",
    "sol4 = der(10)\n",
    "show(sol4)"
   ]
  },
  {
   "cell_type": "code",
   "execution_count": 32,
   "metadata": {},
   "outputs": [
    {
     "data": {
      "image/png": "[encoded data removed]",
      "text/plain": [
       "Graphics object consisting of 11 graphics primitives"
      ]
     },
     "metadata": {},
     "output_type": "display_data"
    }
   ],
   "source": [
    "# отрисовка отрезка - основная линия для графика промежутков знакопостоянства\n",
    "intervals_of_constancy = plot(0, xmin=-8, xmax=8, ymin=-0.5, ymax=0.5, aspect_ratio = 1)\n",
    "\n",
    "# добавление красных маркеров - отметки точек\\маркеров\n",
    "intervals_of_constancy  += point((-1/3*sqrt(31) - 1/3, 0), color=\"red\", size=30, zorder=10)\n",
    "intervals_of_constancy  += point((0, 0), color=\"red\", size=30, zorder=10)\n",
    "intervals_of_constancy  += point((1/3*sqrt(31) - 1/3, 0), color=\"red\", size=30,  zorder=10)\n",
    "\n",
    "# здесь добавляем подписи точек (значения по оси X)\n",
    "intervals_of_constancy  += text(\"$−2.1893$\", (-2.3, 1), color=\"black\", fontsize=10)\n",
    "intervals_of_constancy  += text(\"$0$\", (0,1), color=\"black\", fontsize=10)\n",
    "intervals_of_constancy  += text(\"$1.5226$\", (2, 1), color=\"black\", fontsize=10)\n",
    "\n",
    "# Здесь добавляем подписи знаков промежутков знакопостоянства\n",
    "y_margin = 0.1  # смещение по оси Y элемента подписи, чтобы он не наслаивался на линию\n",
    "intervals_of_constancy  += text(\"+\", (5 , 0.5), color=\"black\", fontsize=14) \n",
    "intervals_of_constancy  += text(\"-\", (-1 , 0.5), color=\"black\", fontsize=25)\n",
    "intervals_of_constancy  += text(\"-\", (1 , 0.5), color=\"black\", fontsize=25)\n",
    "intervals_of_constancy  += text(\"+\", (-5 , 0.5), color=\"black\", fontsize=14)\n",
    "\n",
    "# оси не нужны - скрываем\n",
    "intervals_of_constancy.show(axes=False)"
   ]
  },
  {
   "cell_type": "code",
   "execution_count": 33,
   "metadata": {},
   "outputs": [
    {
     "data": {
      "text/html": [
       "<html><script type=\"math/tex; mode=display\">\\newcommand{\\Bold}[1]{\\mathbf{#1}}-2.1893</script></html>"
      ],
      "text/latex": [
       "\\begin{math}\n",
       "\\newcommand{\\Bold}[1]{\\mathbf{#1}}-2.1893\n",
       "\\end{math}"
      ],
      "text/plain": [
       "-2.1893"
      ]
     },
     "metadata": {},
     "output_type": "display_data"
    },
    {
     "data": {
      "text/html": [
       "<html><script type=\"math/tex; mode=display\">\\newcommand{\\Bold}[1]{\\mathbf{#1}}1.5226</script></html>"
      ],
      "text/latex": [
       "\\begin{math}\n",
       "\\newcommand{\\Bold}[1]{\\mathbf{#1}}1.5226\n",
       "\\end{math}"
      ],
      "text/plain": [
       "1.5226"
      ]
     },
     "metadata": {},
     "output_type": "display_data"
    },
    {
     "data": {
      "text/html": [
       "<html><script type=\"math/tex; mode=display\">\\newcommand{\\Bold}[1]{\\mathbf{#1}}-1.8257i</script></html>"
      ],
      "text/latex": [
       "\\begin{math}\n",
       "\\newcommand{\\Bold}[1]{\\mathbf{#1}}-1.8257i\n",
       "\\end{math}"
      ],
      "text/plain": [
       "-1.8257*I"
      ]
     },
     "metadata": {},
     "output_type": "display_data"
    },
    {
     "data": {
      "text/html": [
       "<html><script type=\"math/tex; mode=display\">\\newcommand{\\Bold}[1]{\\mathbf{#1}}1.8257i</script></html>"
      ],
      "text/latex": [
       "\\begin{math}\n",
       "\\newcommand{\\Bold}[1]{\\mathbf{#1}}1.8257i\n",
       "\\end{math}"
      ],
      "text/plain": [
       "1.8257*I"
      ]
     },
     "metadata": {},
     "output_type": "display_data"
    },
    {
     "data": {
      "text/html": [
       "<html><script type=\"math/tex; mode=display\">\\newcommand{\\Bold}[1]{\\mathbf{#1}}0.00000</script></html>"
      ],
      "text/latex": [
       "\\begin{math}\n",
       "\\newcommand{\\Bold}[1]{\\mathbf{#1}}0.00000\n",
       "\\end{math}"
      ],
      "text/plain": [
       "0.00000"
      ]
     },
     "metadata": {},
     "output_type": "display_data"
    }
   ],
   "source": [
    "# 6.Точки экстремума и значения в этих точках.\n",
    "sols = solve(diff(y(x),x),x)\n",
    "for sol in sols:\n",
    "    show(sol.rhs().n(digits = 5))\n",
    "#show(sols)\n",
    "##plot(y,x,aspect_ratio = 1)\n",
    "#plot(y, (x, -35, 35), ymin=-10, ymax=15, aspect_ratio = 1)"
   ]
  },
  {
   "cell_type": "code",
   "execution_count": 34,
   "metadata": {
    "scrolled": true
   },
   "outputs": [
    {
     "data": {
      "image/png": "[encoded data removed]",
      "text/plain": [
       "Graphics object consisting of 1 graphics primitive"
      ]
     },
     "execution_count": 34,
     "metadata": {},
     "output_type": "execute_result"
    }
   ],
   "source": [
    "#plot(diff(y,x),aspect_ratio = 1)\n",
    "\n",
    "plot(diff(y,x), (x, -10, 10), ymin=-20, ymax=10, aspect_ratio = 1)"
   ]
  },
  {
   "cell_type": "code",
   "execution_count": 35,
   "metadata": {},
   "outputs": [],
   "source": [
    "sols = solve(diff(y,x,2),x)"
   ]
  },
  {
   "cell_type": "code",
   "execution_count": 36,
   "metadata": {},
   "outputs": [
    {
     "data": {
      "text/html": [
       "<html><script type=\"math/tex; mode=display\">\\newcommand{\\Bold}[1]{\\mathbf{#1}}-1.4456</script></html>"
      ],
      "text/latex": [
       "\\begin{math}\n",
       "\\newcommand{\\Bold}[1]{\\mathbf{#1}}-1.4456\n",
       "\\end{math}"
      ],
      "text/plain": [
       "-1.4456"
      ]
     },
     "metadata": {},
     "output_type": "display_data"
    },
    {
     "data": {
      "text/html": [
       "<html><script type=\"math/tex; mode=display\">\\newcommand{\\Bold}[1]{\\mathbf{#1}}1.0628</script></html>"
      ],
      "text/latex": [
       "\\begin{math}\n",
       "\\newcommand{\\Bold}[1]{\\mathbf{#1}}1.0628\n",
       "\\end{math}"
      ],
      "text/plain": [
       "1.0628"
      ]
     },
     "metadata": {},
     "output_type": "display_data"
    },
    {
     "data": {
      "text/html": [
       "<html><script type=\"math/tex; mode=display\">\\newcommand{\\Bold}[1]{\\mathbf{#1}}0.19141 - 4.6526i</script></html>"
      ],
      "text/latex": [
       "\\begin{math}\n",
       "\\newcommand{\\Bold}[1]{\\mathbf{#1}}0.19141 - 4.6526i\n",
       "\\end{math}"
      ],
      "text/plain": [
       "0.19141 - 4.6526*I"
      ]
     },
     "metadata": {},
     "output_type": "display_data"
    },
    {
     "data": {
      "text/html": [
       "<html><script type=\"math/tex; mode=display\">\\newcommand{\\Bold}[1]{\\mathbf{#1}}0.19141 + 4.6526i</script></html>"
      ],
      "text/latex": [
       "\\begin{math}\n",
       "\\newcommand{\\Bold}[1]{\\mathbf{#1}}0.19141 + 4.6526i\n",
       "\\end{math}"
      ],
      "text/plain": [
       "0.19141 + 4.6526*I"
      ]
     },
     "metadata": {},
     "output_type": "display_data"
    },
    {
     "data": {
      "text/html": [
       "<html><script type=\"math/tex; mode=display\">\\newcommand{\\Bold}[1]{\\mathbf{#1}}-2.1893</script></html>"
      ],
      "text/latex": [
       "\\begin{math}\n",
       "\\newcommand{\\Bold}[1]{\\mathbf{#1}}-2.1893\n",
       "\\end{math}"
      ],
      "text/plain": [
       "-2.1893"
      ]
     },
     "metadata": {},
     "output_type": "display_data"
    },
    {
     "data": {
      "text/html": [
       "<html><script type=\"math/tex; mode=display\">\\newcommand{\\Bold}[1]{\\mathbf{#1}}1.5226</script></html>"
      ],
      "text/latex": [
       "\\begin{math}\n",
       "\\newcommand{\\Bold}[1]{\\mathbf{#1}}1.5226\n",
       "\\end{math}"
      ],
      "text/plain": [
       "1.5226"
      ]
     },
     "metadata": {},
     "output_type": "display_data"
    },
    {
     "data": {
      "text/html": [
       "<html><script type=\"math/tex; mode=display\">\\newcommand{\\Bold}[1]{\\mathbf{#1}}0.00000</script></html>"
      ],
      "text/latex": [
       "\\begin{math}\n",
       "\\newcommand{\\Bold}[1]{\\mathbf{#1}}0.00000\n",
       "\\end{math}"
      ],
      "text/plain": [
       "0.00000"
      ]
     },
     "metadata": {},
     "output_type": "display_data"
    }
   ],
   "source": [
    "for sol in sols:\n",
    "    show(sol.rhs().n(digits = 5))"
   ]
  },
  {
   "cell_type": "code",
   "execution_count": 37,
   "metadata": {},
   "outputs": [
    {
     "data": {
      "text/plain": [
       "+Infinity == -Infinity"
      ]
     },
     "execution_count": 37,
     "metadata": {},
     "output_type": "execute_result"
    }
   ],
   "source": [
    "# 7.Непрерывность. Наличие точек разрыва и их классификация.\n",
    "limp = y(x).limit(x = 0, dir = '+')\n",
    "limm = y(x).limit(x = 0, dir = '-')\n",
    "limp == limm"
   ]
  },
  {
   "cell_type": "markdown",
   "metadata": {},
   "source": [
    "Функция $y(x)$ не определена в точке $x = 0$, следовательно $x = 0$ точка разрыва. Так как не существует общего предела $x = 0$ точка разрыва второго рода. Функция непрерывна на интервалах $(-oo, 0)$ и $(0, oo)$"
   ]
  },
  {
   "cell_type": "code",
   "execution_count": 38,
   "metadata": {},
   "outputs": [
    {
     "data": {
      "image/png": "[encoded data removed]",
      "text/plain": [
       "Graphics object consisting of 3 graphics primitives"
      ]
     },
     "metadata": {},
     "output_type": "display_data"
    }
   ],
   "source": [
    "# 8.Асимптоты.\n",
    "plot(y(x), (-8, 8), detect_poles='show').show(ymin=-5, ymax=5)"
   ]
  },
  {
   "cell_type": "code",
   "execution_count": null,
   "metadata": {},
   "outputs": [],
   "source": []
  }
 ],
 "metadata": {
  "kernelspec": {
   "display_name": "SageMath 9.2",
   "language": "sage",
   "name": "sagemath"
  },
  "language_info": {
   "codemirror_mode": {
    "name": "ipython",
    "version": 3
   },
   "file_extension": ".py",
   "mimetype": "text/x-python",
   "name": "python",
   "nbconvert_exporter": "python",
   "pygments_lexer": "ipython3",
   "version": "3.7.7"
  }
 },
 "nbformat": 4,
 "nbformat_minor": 2
}
